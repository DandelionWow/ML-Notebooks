{
 "cells": [
  {
   "cell_type": "markdown",
   "metadata": {},
   "source": [
    "## Concise Logistic Regression for Image Classification\n",
    "\n",
    "- Shows a concise implementation of logistic regression for image classification\n",
    "- Uses PyTorch"
   ]
  },
  {
   "cell_type": "code",
   "execution_count": null,
   "metadata": {},
   "outputs": [],
   "source": [
    "# imports\n",
    "import torch # 导包\n",
    "import torchvision # 导包\n",
    "import torch.nn as nn # 导包\n",
    "from torchvision import datasets, models, transforms # 导包\n",
    "import os # 导包\n",
    "import numpy as np # 导包\n",
    "import matplotlib.pyplot as plt # 导包\n",
    "\n",
    "%matplotlib inline\n",
    "\n",
    "# use gpu if available\n",
    "device = torch.device(\"cuda:0\" if torch.cuda.is_available() else \"cpu\") # 有gpu就用，没有cpu"
   ]
  },
  {
   "cell_type": "code",
   "execution_count": null,
   "metadata": {},
   "outputs": [],
   "source": [
    "# download the data (uncomment if to download the data locally)\n",
    "#!wget https://download.pytorch.org/tutorial/hymenoptera_data.zip\n",
    "#!unzip hymenoptera_data.zip"
   ]
  },
  {
   "cell_type": "code",
   "execution_count": null,
   "metadata": {},
   "outputs": [],
   "source": [
    "# create data loaders\n",
    "\n",
    "data_dir = 'data/hymenoptera_data' # 数据集path\n",
    "\n",
    "# custom transformer to flatten the image tensors\n",
    "class ReshapeTransform:\n",
    "    def __init__(self, new_size):\n",
    "        self.new_size = new_size # 初始化new_size\n",
    "\n",
    "    def __call__(self, img):\n",
    "        result = torch.reshape(img, self.new_size) # 重塑形状，new_size为-1就是转为1维\n",
    "        return result # 返回\n",
    "\n",
    "# transformations used to standardize and normalize the datasets\n",
    "data_transforms = {\n",
    "    'train': transforms.Compose([\n",
    "        transforms.Resize(224),\n",
    "        transforms.CenterCrop(224),\n",
    "        transforms.ToTensor(),\n",
    "        ReshapeTransform((-1,)) # flattens the data，new_size设为-1\n",
    "    ]),\n",
    "    'val': transforms.Compose([\n",
    "        transforms.Resize(224),\n",
    "        transforms.CenterCrop(224),\n",
    "        transforms.ToTensor(),\n",
    "        ReshapeTransform((-1,)) # flattens the data\n",
    "    ]),\n",
    "} # \n",
    "\n",
    "# load the correspoding folders\n",
    "image_datasets = {x: datasets.ImageFolder(os.path.join(data_dir, x),\n",
    "                                          data_transforms[x])\n",
    "                  for x in ['train', 'val']} # 加载数据集\n",
    "\n",
    "# load the entire dataset; we are not using minibatches here\n",
    "train_dataset = torch.utils.data.DataLoader(image_datasets['train'],\n",
    "                                            batch_size=len(image_datasets['train']),\n",
    "                                            shuffle=True) # 加载训练集\n",
    "\n",
    "test_dataset = torch.utils.data.DataLoader(image_datasets['val'],\n",
    "                                           batch_size=len(image_datasets['val']),\n",
    "                                           shuffle=True) # 加载测试集"
   ]
  },
  {
   "cell_type": "code",
   "execution_count": null,
   "metadata": {},
   "outputs": [],
   "source": [
    "# build the LR model\n",
    "class LR(nn.Module): # 逻辑回归模型，继承nn.Module\n",
    "    def __init__(self, dim): # \n",
    "        super(LR, self).__init__() # 父类初始化\n",
    "        self.linear = nn.Linear(dim, 1) # 构建全连接层，y=wx+b\n",
    "        nn.init.zeros_(self.linear.weight) # 初始化权重w\n",
    "        nn.init.zeros_(self.linear.bias) # 初始化b\n",
    "\n",
    "    def forward(self, x): # 前向传播，预测\n",
    "        x = self.linear(x) # 线性回归结果\n",
    "        x = torch.sigmoid(x) # 逻辑回归\n",
    "        return x # 返回"
   ]
  },
  {
   "cell_type": "code",
   "execution_count": null,
   "metadata": {},
   "outputs": [],
   "source": [
    "# predict function\n",
    "def predict(yhat, y):\n",
    "    yhat = yhat.squeeze() # 减少一维 torch.Size([244, 1]) -> torch.Size([244])\n",
    "    y = y.unsqueeze(0) # 增加一维 torch.Size([244]) -> torch.Size([1, 244])\n",
    "    y_prediction = torch.zeros(y.size()[1]) # 初始化预测值，shape:244\n",
    "    for i in range(yhat.shape[0]):\n",
    "        if yhat[i] <= 0.5: # 以0.5为界\n",
    "            y_prediction[i] = 0 # 预测为0\n",
    "        else:\n",
    "            y_prediction[i] = 1 # 预测为1\n",
    "    y_sub = y_prediction - y # 减法\n",
    "    y_abs = torch.abs(y_sub) # 绝对值\n",
    "    y_mean = torch.mean(y_abs) # 均值\n",
    "    return 100 - y_mean * 100 # 返回得分，满分100"
   ]
  },
  {
   "cell_type": "code",
   "execution_count": null,
   "metadata": {},
   "outputs": [],
   "source": [
    "# model config\n",
    "dim = train_dataset.dataset[0][0].shape[0] # 维度\n",
    "\n",
    "lrmodel = LR(dim).to(device) # 实例化模型\n",
    "criterion = nn.BCELoss() # 目标值和预测值之间的二进制交叉熵损失函数\n",
    "optimizer = torch.optim.SGD(lrmodel.parameters(), lr=0.0001) # 优化器使用SGD，学习率为0.0001"
   ]
  },
  {
   "cell_type": "code",
   "execution_count": null,
   "metadata": {},
   "outputs": [],
   "source": [
    "# training the model\n",
    "costs = [] # 代价值初始化\n",
    "\n",
    "for ITER in range(100): # 循环100次\n",
    "    lrmodel.train() # train模式\n",
    "    x, y = next(iter(train_dataset)) # 取出一组\n",
    "    test_x, test_y = next(iter(test_dataset)) # 取出一组\n",
    "\n",
    "    # forward\n",
    "    yhat = lrmodel.forward(x.to(device)) # 预测\n",
    "    cost = criterion(yhat.squeeze(), y.type(torch.FloatTensor).to(device)) # 计算loss\n",
    "    train_pred = predict(yhat, y) # 计算预测得分\n",
    "\n",
    "    # backward\n",
    "    optimizer.zero_grad() # 清空梯度\n",
    "    cost.backward() # 梯度下降\n",
    "    optimizer.step() # 参数更新\n",
    "    \n",
    "    # evaluate\n",
    "    lrmodel.eval() # 设置为eval模式，相当于lrmodel.train(False)\n",
    "    with torch.no_grad(): # torch.no_grad() 禁用梯度计算\n",
    "        yhat_test = lrmodel.forward(test_x.to(device)) # 测试集预测值\n",
    "        test_pred = predict(yhat_test, test_y) # 计算得分\n",
    "\n",
    "    if ITER % 10 == 0:\n",
    "        costs.append(cost) # 记录\n",
    "\n",
    "    if ITER % 10 == 0:\n",
    "        print(\"Cost after iteration {}: {} | Train Acc: {} | Test Acc: {}\".format(ITER, \n",
    "                                                                                    cost, \n",
    "                                                                                    train_pred,\n",
    "                                                                                    test_pred)) # 打印\n",
    "   "
   ]
  },
  {
   "cell_type": "markdown",
   "metadata": {},
   "source": [
    "### References\n",
    "- [A Logistic Regression Model from Scratch](https://colab.research.google.com/drive/1iBoJ0kngkOthy7SgVaVQA1aHEROt5mra?usp=sharing)"
   ]
  }
 ],
 "metadata": {
  "kernelspec": {
   "display_name": "Python 3.7.13 ('play')",
   "language": "python",
   "name": "python3"
  },
  "language_info": {
   "codemirror_mode": {
    "name": "ipython",
    "version": 3
   },
   "file_extension": ".py",
   "mimetype": "text/x-python",
   "name": "python",
   "nbconvert_exporter": "python",
   "pygments_lexer": "ipython3",
   "version": "3.8.6"
  },
  "orig_nbformat": 4,
  "vscode": {
   "interpreter": {
    "hash": "cf9800998463bc980d70cdbacff0c7e9a10687346dc898569e92f016d6e252c9"
   }
  }
 },
 "nbformat": 4,
 "nbformat_minor": 2
}
