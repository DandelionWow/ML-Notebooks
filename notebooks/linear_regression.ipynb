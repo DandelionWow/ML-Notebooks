{
  "cells": [
    {
      "cell_type": "markdown",
      "metadata": {
        "colab_type": "text",
        "id": "view-in-github"
      },
      "source": [
        "<a href=\"https://colab.research.google.com/drive/1br0hM79ORTVNXUpVgkV5t4o4AigGxfwk?usp=sharing\" target=\"_parent\"><img src=\"https://colab.research.google.com/assets/colab-badge.svg\" alt=\"Open In Colab\"/></a>"
      ]
    },
    {
      "cell_type": "markdown",
      "metadata": {},
      "source": [
        "# Linear Regression from Scratch"
      ]
    },
    {
      "attachments": {},
      "cell_type": "markdown",
      "metadata": {
        "id": "m41136O7L5bV"
      },
      "source": [
        "In this tutorial, we are going to implement a linear regression model to predict california housing prices. We will build the model **from scratch** using numpy. This will be a great approach to begin understanding regression based models.\n",
        "\n",
        "After completing this tutorial the learner is expected to know the basic building blocks of a linear regression model. The learner is also expected to know the **pipeline** of reading and transforming data for machine learning **workflows**.\n",
        "\n"
      ]
    },
    {
      "cell_type": "code",
      "execution_count": null,
      "metadata": {
        "id": "Pni17h4R8v8a"
      },
      "outputs": [],
      "source": [
        "## Import the usual libraries \n",
        "import numpy as np # 导包\n",
        "import pandas as pd # 导包\n",
        "from sklearn.datasets import fetch_california_housing # 导包，加州房价数据集\n",
        "from sklearn.model_selection import train_test_split # 导包\n",
        "from sklearn.preprocessing import StandardScaler # 导包\n",
        "import matplotlib.pyplot as plt # 导包"
      ]
    },
    {
      "cell_type": "markdown",
      "metadata": {
        "id": "DjyJUfczL4zX"
      },
      "source": [
        "# Importing the dataset\n",
        "\n",
        "The real-world dataset can be obtained by the function `fetch_california_housing` that downloads the dataset for us. \n",
        "\n",
        "The `as_frame` parameter returns a pandas dataframe which is a library useful for viewing contents of the data.\n",
        "\n"
      ]
    },
    {
      "cell_type": "code",
      "execution_count": null,
      "metadata": {
        "colab": {
          "base_uri": "https://localhost:8080/",
          "height": 206
        },
        "id": "aOXxbywahC5X",
        "outputId": "24521e0a-6f1a-4e5c-c35d-3abb8112a9af"
      },
      "outputs": [],
      "source": [
        "# Fetch the data using sklearn function\n",
        "bunch = fetch_california_housing(download_if_missing=True, as_frame=True) # 加载数据集，并在数据集中生成pandas的数据表格\n",
        "\n",
        "# Load the dataframe and view\n",
        "df = bunch.frame # 获取数据表格\n",
        "df.head() # 返回表格的前几行，参数n，默认5"
      ]
    },
    {
      "attachments": {},
      "cell_type": "markdown",
      "metadata": {
        "id": "KUeU_jLylTx7"
      },
      "source": [
        "For this dataset, our target variable is **the median house value** for California **districts**, **expressed** in hundreds of thousands of dollars ($100,000).\n",
        "\n",
        "We can take a **closer** look at the various statistical parameters of the dataset using pandas. The `describe` function will help us."
      ]
    },
    {
      "cell_type": "code",
      "execution_count": null,
      "metadata": {
        "colab": {
          "base_uri": "https://localhost:8080/",
          "height": 300
        },
        "id": "eD4BpBHClgDc",
        "outputId": "e2171ffb-bd38-4e3e-b600-ad3c249a3234"
      },
      "outputs": [],
      "source": [
        "df.describe() # 生成描述性统计数据，不包括NaN值"
      ]
    },
    {
      "attachments": {},
      "cell_type": "markdown",
      "metadata": {
        "id": "6S6WG0Bejxc2"
      },
      "source": [
        "As we can see the data in each of the columns is on different **scales**. For example, the average bedroom value is around 1 and the average population is around 1425. \n",
        "\n",
        "Generally, machine learing models do not work well when the data is on different scales. Thus, we have to **normalize** our data in the range [-1,1]. The module [StandardScalar](https://scikit-learn.org/stable/modules/generated/sklearn.preprocessing.StandardScaler.html) will help us in this.\n",
        "\n",
        "The training data should always be normalized. The testing data should be normalized using the values of the training data. "
      ]
    },
    {
      "cell_type": "code",
      "execution_count": null,
      "metadata": {
        "id": "pkaOgN44iQLN"
      },
      "outputs": [],
      "source": [
        "# !wget https://raw.githubusercontent.com/Ankit152/Fish-Market/main/Fish.csv\n",
        "# import pandas as pd\n",
        "# df  = pd.read_csv(\"Fish.csv\")\n",
        "# y = df['Weight']\n",
        "# x = df[[\"Length1\", \"Length2\", \"Length3\", \"Height\", \"Width\",\"Weight\"]]\n",
        "\n",
        "df = bunch.frame\n",
        "x = df.iloc[:,:-1] # Select all the columns, except the last column 分割出特征\n",
        "y = df.iloc[:,-1:] # Select the last column # 分割出label\n",
        "# random_state随机数种子：其实就是该组随机数的编号，在需要重复试验的时候，保证得到一组一样的随机数。比如你每次都填1，其他参数一样的情况下你得到的随机数组是一样的。但填0或不填，每次都会不一样。\n",
        "x_train, x_test, y_train, y_test = train_test_split(x, y, test_size = 0.33, random_state = 1) # 分割数据集，测试集占33%\n",
        "\n",
        "input_scalar = StandardScaler() # 输入归一化，默认使用均值u和标准差σ，x_* = (x-u)/σ\n",
        "output_scalar = StandardScaler() # 输出归一化\n",
        "\n",
        "x_train = input_scalar.fit_transform(x_train).T # Normalize train data。fit_transform进行数据归一化，并且求转置，shape从(n_features, m_samples)转为(m_samples, n_features)。xx.T再求转置\n",
        "x_test = input_scalar.transform(x_test).T # Only transform test data using values of train data。同理\n",
        "\n",
        "y_train = output_scalar.fit_transform(y_train).reshape(-1) # 同理。reshape(-1)转成一维数组\n",
        "y_test = output_scalar.transform(y_test).reshape(-1) # 同理\n",
        "\n",
        "dataset_copy = [ x_train.copy(), x_test.copy(),  y_train.copy(),  y_test.copy()] # 深拷贝一份数据集"
      ]
    },
    {
      "cell_type": "markdown",
      "metadata": {
        "id": "mylVXZDk96a2"
      },
      "source": [
        "# Linear Regression Model\n",
        "\n",
        "Now we define our linear regression model from scratch.\n",
        "\n",
        "A linear regression model is of the form:\n",
        "\n",
        "$y = a_1 x_1 + a_2 x_2 + \\dots + a_nx_n + a_{n+1}$\n",
        "  \n",
        "The above can be rewritten using matrix multiplication as\n",
        "\n",
        "$ y = w^T x $\n",
        "\n",
        "where \n",
        "\n",
        "$ w = [a_1, a_2, \\dots,  a_n, a_{n+1}]^T $\n",
        "\n",
        "$ x = [x_1, x_2, \\dots,  x_n]^T $\n"
      ]
    },
    {
      "cell_type": "code",
      "execution_count": null,
      "metadata": {
        "id": "iJViSowz9nah"
      },
      "outputs": [],
      "source": [
        "class LinearRegression(): # 线性回归类\n",
        "  def __init__(self, dim, lr = 0.1): # 初始化函数，学习率默认0.1\n",
        "    assert isinstance\n",
        "    self.lr = lr # 初始化学习率\n",
        "    self.w = np.zeros((dim)) # 初始化权重\n",
        "    self.grads = {\"dw\": np.zeros((dim)) +5} # 初始化梯度\n",
        "\n",
        "  def forward(self, x):\n",
        "    y = self.w @ x # numpy中的矩阵乘法，与dot()一样，这里w无需转置，转置后还是一维数组\n",
        "    return y # 返回预测结果，一维数组，用w对x的每一列做点积\n",
        "  \n",
        "  def backward(self, x, y_hat, y):\n",
        "    assert y_hat.shape == y.shape # 判断预测和真实y形状是否相同，若不同，抛异常AssertionError\n",
        "    self.grads[\"dw\"] = (1 / x.shape[1]) * ((y_hat - y) @ x.T).T # 计算梯度，就是对代价函数求偏导数，这个公式就是对均方误差求偏导数的结果\n",
        "    assert self.grads[\"dw\"].shape == self.w.shape # 判断形状\n",
        "    \n",
        "    # print(self.grads[\"dw\"])\n",
        "\n",
        "  def optimize(self):\n",
        "    self.w = self.w - self.lr * self.grads[\"dw\"] # 优化器，梯度下降，调整参数w"
      ]
    },
    {
      "cell_type": "markdown",
      "metadata": {
        "id": "6UOy32LoqCrL"
      },
      "source": [
        "# Loss\n",
        "\n",
        "For linear regression, various loss functions such as the mean absolute error, mean squared error, or root mean squared error can be used.\n",
        "\n",
        "In this example, we will use the mean squared error (MSE) loss.\n",
        "\n",
        "The MSE loss is given by \n",
        "\n",
        "$ error = \\frac{1}{m} Σ_{i=1}^{m} (y_{true}^{i} - y_{pred}^{i})^2 $ \n",
        "\n",
        "where $i$ denotes the particular obseration/row in the dataset and $m$ is the total number of obserations.\n",
        "\n",
        "To ensure our model is correct, the loss should decrease over each epoch.\n"
      ]
    },
    {
      "cell_type": "code",
      "execution_count": null,
      "metadata": {
        "colab": {
          "base_uri": "https://localhost:8080/",
          "height": 1000
        },
        "id": "mgNn3oGjjbxX",
        "outputId": "2f67998e-2fa4-4c43-e091-d5180dd92029"
      },
      "outputs": [],
      "source": [
        "num_epochs = 10000 # 对训练集训练10000次\n",
        "train_loss_history = [] # 训练损失记录\n",
        "test_loss_history = [] # 测试损失记录\n",
        "w_history = [] # 权重记录\n",
        "dim = x_train.shape[0] # 维度（几个特征）\n",
        "num_train = x_train.shape[1] # 训练集长度\n",
        "num_test = x_test.shape[1] # 测试集长度\n",
        "\n",
        "\n",
        "model = LinearRegression(dim = dim, lr = 0.1) # 实例化模型\n",
        "for i in range(num_epochs): # 循环10000次\n",
        "  y_hat = model.forward(x_train) # 计算预测值\n",
        "  train_loss = 1/(2 * num_train) * ((y_train - y_hat) ** 2).sum() # 均方误差\n",
        "\n",
        "  w_history.append(model.w) # 记录这个epoch的权重\n",
        "  model.backward(x_train,y_hat,y_train) # 反向计算梯度\n",
        "  model.optimize() # 优化参数\n",
        "\n",
        "  y_hat = model.forward(x_test) # 利用测试集预测\n",
        "  test_loss = 1/(2 * num_test) * ((y_test - y_hat) ** 2).sum() # 损失\n",
        "\n",
        "  train_loss_history.append(train_loss) # 记录训练集损失\n",
        "  test_loss_history.append(test_loss) # 记录测试集损失\n",
        "\n",
        "  if i % 20 == 0:\n",
        "    print(f\"Epoch {i} | Train Loss {train_loss} | Test Loss {test_loss}\") # 打印当前epoch两个损失\n",
        "\n",
        "plt.plot(range(num_epochs), train_loss_history, label = \"Training\") # 画训练损失曲线\n",
        "plt.plot(range(num_epochs), test_loss_history, label = \"Test\") # 画测试集损失曲线\n",
        "plt.legend() # 生成\n",
        "plt.show() # 展示"
      ]
    },
    {
      "cell_type": "markdown",
      "metadata": {
        "id": "ldFMBPuvr0l0"
      },
      "source": [
        "# Results\n",
        "\n",
        "Before viewing the results, we need to reverse the transformations applied on the output variable y.\n",
        "\n",
        "The `inverse_transform` method of the StandardScaler object will help us."
      ]
    },
    {
      "cell_type": "code",
      "execution_count": null,
      "metadata": {
        "colab": {
          "base_uri": "https://localhost:8080/"
        },
        "id": "ZycI4aExMsoC",
        "outputId": "47c6b8fa-d1ee-4ff6-90d0-7e9289cfe40e"
      },
      "outputs": [],
      "source": [
        "from sklearn.metrics import mean_squared_error\n",
        "y_test = output_scalar.inverse_transform(y_test[np.newaxis,:]) # 反归一化\n",
        "y_hat  = output_scalar.inverse_transform(y_hat[np.newaxis,:]) # 反归一化\n",
        "error = (((y_test - y_hat) ** 2).sum() / num_test ) # 计算均方误差\n",
        "print(\"Test Set Error\", error) # 打印"
      ]
    },
    {
      "cell_type": "markdown",
      "metadata": {
        "id": "UoYobRS9uBIv"
      },
      "source": [
        "# Libraries\n",
        "\n",
        "Instead of coding everything from scratch, i.e the model, loss functions, and gradient calculations, there are many libaries that have implemented many machine learning algorithms for us.\n",
        "\n",
        "These libraries will generally be faster and more optimized. We can use the LinearRegression and SGD regressor module from scikit learn to compare our model"
      ]
    },
    {
      "cell_type": "code",
      "execution_count": null,
      "metadata": {
        "colab": {
          "base_uri": "https://localhost:8080/"
        },
        "id": "txWBY_0eoNN_",
        "outputId": "7886b7e0-c383-4676-e825-3d7197d06d80"
      },
      "outputs": [],
      "source": [
        "from sklearn.linear_model import SGDRegressor # 导包，随机梯度下降的线性回归\n",
        "\n",
        "\n",
        "x_train, x_test, y_train, y_test = dataset_copy # 训练集和测试集\n",
        "sgd = SGDRegressor() # 实例化对象\n",
        "sgd.fit(x_train.T, y_train) # 训练\n",
        "y_hat = sgd.predict(x_test.T) # 预测\n",
        "y_test = output_scalar.inverse_transform(y_test[np.newaxis,:]) # 同理\n",
        "y_hat  = output_scalar.inverse_transform(y_hat[np.newaxis,:]) # 同理\n",
        "error = mean_squared_error(y_test, y_hat, squared = True) # 计算均方误差 squared默认True，返回均方误差，如果是False返回均方误差的平方根\n",
        "print(\"Test Set Error\", error) # 打印"
      ]
    },
    {
      "cell_type": "code",
      "execution_count": null,
      "metadata": {
        "colab": {
          "base_uri": "https://localhost:8080/"
        },
        "id": "9CaqphG8TG7V",
        "outputId": "579bc8dd-6093-4155-8966-f8c60c34b1b3"
      },
      "outputs": [],
      "source": [
        "from sklearn.linear_model import LinearRegression as LR # 导包，线性回归\n",
        "\n",
        "x_train, x_test, y_train, y_test = dataset_copy # 数据集\n",
        "lr = LR() # 实例化\n",
        "lr.fit(x_train.T, y_train) # 训练\n",
        "y_hat = lr.predict(x_test.T) # 预测\n",
        "y_test = output_scalar.inverse_transform(y_test[np.newaxis,:]) # 同理\n",
        "y_hat  = output_scalar.inverse_transform(y_hat[np.newaxis,:]) # 同理\n",
        "error = mean_squared_error(y_test, y_hat, squared = True) # 同理\n",
        "print(\"Test Set Error\", error) # 打印"
      ]
    }
  ],
  "metadata": {
    "colab": {
      "authorship_tag": "ABX9TyODV4REEuhLrJ1l8OWl6dFt",
      "collapsed_sections": [],
      "include_colab_link": true,
      "name": "Linear Regression.ipynb",
      "provenance": []
    },
    "kernelspec": {
      "display_name": "Python 3",
      "name": "python3"
    },
    "language_info": {
      "codemirror_mode": {
        "name": "ipython",
        "version": 3
      },
      "file_extension": ".py",
      "mimetype": "text/x-python",
      "name": "python",
      "nbconvert_exporter": "python",
      "pygments_lexer": "ipython3",
      "version": "3.8.6"
    }
  },
  "nbformat": 4,
  "nbformat_minor": 0
}
