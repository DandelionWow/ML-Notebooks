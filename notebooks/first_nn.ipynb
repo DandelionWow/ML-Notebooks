{
 "cells": [
  {
   "cell_type": "markdown",
   "metadata": {},
   "source": [
    "## First Neural Network: Image Classification \n",
    "\n",
    "Objectives:\n",
    "- Train a minimal image classifier on [MNIST](https://paperswithcode.com/dataset/mnist) using PyTorch\n",
    "- Usese PyTorch and torchvision"
   ]
  },
  {
   "cell_type": "code",
   "execution_count": null,
   "metadata": {},
   "outputs": [],
   "source": [
    "# The usual imports\n",
    "import torch # 导包\n",
    "import torch.nn as nn # 导包\n",
    "import torchvision # 导包\n",
    "import torchvision.transforms as transforms # 导包"
   ]
  },
  {
   "cell_type": "code",
   "execution_count": null,
   "metadata": {},
   "outputs": [],
   "source": [
    "# load the data\n",
    "class ReshapeTransform:\n",
    "    def __init__(self, new_size):\n",
    "        self.new_size = new_size # 参数初始化\n",
    "\n",
    "    def __call__(self, img):\n",
    "        return torch.reshape(img, self.new_size) # 重塑形状\n",
    "\n",
    "transformations = transforms.Compose([\n",
    "                                transforms.ToTensor(),\n",
    "                                transforms.ConvertImageDtype(torch.float32),\n",
    "                                ReshapeTransform((-1,))\n",
    "                                ]) # 数据集转换，将shape:[28,28]转为shape:[784]\n",
    "\n",
    "trainset = torchvision.datasets.MNIST(root='./data', train=True,\n",
    "                                        download=True, transform=transformations) # 加载训练集\n",
    "\n",
    "testset = torchvision.datasets.MNIST(root='./data', train=False,\n",
    "                                       download=True, transform=transformations) # 加载测试集"
   ]
  },
  {
   "cell_type": "code",
   "execution_count": null,
   "metadata": {},
   "outputs": [],
   "source": [
    "# check shape of data\n",
    "trainset.data.shape, testset.data.shape # 训练集和测试集的形状"
   ]
  },
  {
   "cell_type": "code",
   "execution_count": null,
   "metadata": {},
   "outputs": [],
   "source": [
    "# data loader\n",
    "BATCH_SIZE = 128 # 设置batch_size\n",
    "train_dataloader = torch.utils.data.DataLoader(trainset, \n",
    "                                               batch_size=BATCH_SIZE,\n",
    "                                               shuffle=True, \n",
    "                                               num_workers=0) # 训练集加载器\n",
    "\n",
    "test_dataloader = torch.utils.data.DataLoader(testset, \n",
    "                                              batch_size=BATCH_SIZE,\n",
    "                                              shuffle=False, \n",
    "                                              num_workers=0) # 测试集加载器"
   ]
  },
  {
   "cell_type": "code",
   "execution_count": null,
   "metadata": {},
   "outputs": [],
   "source": [
    "# model\n",
    "# ReLU()是一种激活函数，表达形式为$f(x)=max(0,x)$，负半区导数为0，正半区导数为1，正半区梯度为0。https://zhuanlan.zhihu.com/p/428448728\n",
    "model = nn.Sequential(nn.Linear(784, 512), nn.ReLU(), nn.Linear(512, 10)) # 第一层线性模型(输入特征784(28*28)，输出512)，第二层ReLU，第三层线性模型(in 512 out 10)"
   ]
  },
  {
   "cell_type": "code",
   "execution_count": null,
   "metadata": {},
   "outputs": [],
   "source": [
    "# training preparation\n",
    "trainer = torch.optim.RMSprop(model.parameters()) # 优化器，RMS(root mean square)均方根\n",
    "loss = nn.CrossEntropyLoss() # 交叉熵损失"
   ]
  },
  {
   "cell_type": "code",
   "execution_count": null,
   "metadata": {},
   "outputs": [],
   "source": [
    "def get_accuracy(output, target, batch_size):\n",
    "    # Obtain accuracy for training round\n",
    "    corrects = (torch.max(output, 1)[1].view(target.size()).data == target.data).sum() # 累加分类正确的\n",
    "    accuracy = 100.0 * corrects/batch_size # 计算在一个batch中分类正确的百分比\n",
    "    return accuracy.item() # 返回"
   ]
  },
  {
   "cell_type": "code",
   "execution_count": null,
   "metadata": {},
   "outputs": [],
   "source": [
    "# train\n",
    "for ITER in range(5): # epoch=5\n",
    "    train_acc = 0.0 # 训练精度累加初始化\n",
    "    train_running_loss = 0.0 # 初始化loss\n",
    "\n",
    "    model.train() # 训练模式\n",
    "    for i, (X, y) in enumerate(train_dataloader): # 将训练数据集组合成可迭代序列，i为索引\n",
    "        output = model(X) # 分类\n",
    "        l = loss(output, y) # 计算loss\n",
    "\n",
    "        # update the parameters\n",
    "        l.backward() # 开启反向传播，梯度更新\n",
    "        trainer.step() # 更新参数\n",
    "        trainer.zero_grad() # 清空梯度\n",
    "\n",
    "        # gather metrics\n",
    "        train_acc += get_accuracy(output, y, BATCH_SIZE) # 累加精度\n",
    "        train_running_loss += l.detach().item() # 累加loss\n",
    "\n",
    "    print('Epoch: %d | Train loss: %.4f | Train Accuracy: %.4f' \\\n",
    "          %(ITER+1, train_running_loss / (i+1),train_acc/(i+1))) # 打印"
   ]
  },
  {
   "cell_type": "code",
   "execution_count": null,
   "metadata": {},
   "outputs": [],
   "source": [
    "# test\n",
    "test_acc = 0.\n",
    "model.eval()\n",
    "for i, (X, y) in enumerate(test_dataloader): \n",
    "    with torch.no_grad(): \n",
    "        output = model(X)\n",
    "        test_acc += get_accuracy(output, y, BATCH_SIZE)\n",
    "    \n",
    "print('Test Accuracy: %.4f' \\\n",
    "          %(test_acc/(i+1))) # 打印"
   ]
  },
  {
   "cell_type": "markdown",
   "metadata": {},
   "source": [
    "### Other things to try\n",
    "\n",
    "- Evaluate on test set\n",
    "- Plot loss curve\n",
    "- Add more layers to the model"
   ]
  }
 ],
 "metadata": {
  "kernelspec": {
   "display_name": "Python 3.7.13 ('play')",
   "language": "python",
   "name": "python3"
  },
  "language_info": {
   "codemirror_mode": {
    "name": "ipython",
    "version": 3
   },
   "file_extension": ".py",
   "mimetype": "text/x-python",
   "name": "python",
   "nbconvert_exporter": "python",
   "pygments_lexer": "ipython3",
   "version": "3.8.6"
  },
  "orig_nbformat": 4,
  "vscode": {
   "interpreter": {
    "hash": "cf9800998463bc980d70cdbacff0c7e9a10687346dc898569e92f016d6e252c9"
   }
  }
 },
 "nbformat": 4,
 "nbformat_minor": 2
}
